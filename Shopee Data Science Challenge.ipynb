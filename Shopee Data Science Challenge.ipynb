{
 "cells": [
  {
   "cell_type": "code",
   "execution_count": 1,
   "metadata": {
    "_cell_guid": "79c7e3d0-c299-4dcb-8224-4455121ee9b0",
    "_uuid": "d629ff2d2480ee46fbb7e2d37f6b5fab8052498a"
   },
   "outputs": [],
   "source": [
    "import os\n",
    "import math\n",
    "from tqdm import tqdm\n",
    "import numpy as np # linear algebra\n",
    "import pandas as pd # data processing, CSV file I/O (e.g. pd.read_csv)\n",
    "from sklearn.model_selection import train_test_split"
   ]
  },
  {
   "cell_type": "markdown",
   "metadata": {
    "_uuid": "21f85dfd5b9bf3d8b27ba29149d52253e5d64049"
   },
   "source": [
    "# Setup"
   ]
  },
  {
   "cell_type": "code",
   "execution_count": 2,
   "metadata": {
    "_uuid": "78578eab64a477d0a5ad6b1c917ae154868a44df"
   },
   "outputs": [
    {
     "data": {
      "text/html": [
       "<div>\n",
       "<style scoped>\n",
       "    .dataframe tbody tr th:only-of-type {\n",
       "        vertical-align: middle;\n",
       "    }\n",
       "\n",
       "    .dataframe tbody tr th {\n",
       "        vertical-align: top;\n",
       "    }\n",
       "\n",
       "    .dataframe thead th {\n",
       "        text-align: right;\n",
       "    }\n",
       "</style>\n",
       "<table border=\"1\" class=\"dataframe\">\n",
       "  <thead>\n",
       "    <tr style=\"text-align: right;\">\n",
       "      <th></th>\n",
       "      <th>itemid</th>\n",
       "      <th>title</th>\n",
       "      <th>Category</th>\n",
       "      <th>image_path</th>\n",
       "    </tr>\n",
       "  </thead>\n",
       "  <tbody>\n",
       "    <tr>\n",
       "      <th>352221</th>\n",
       "      <td>1734435160</td>\n",
       "      <td>cuci gudang big size lace u002f brokat dress f...</td>\n",
       "      <td>24</td>\n",
       "      <td>fashion_image/12f77e7bdfacff949d48b8aa479b50ee</td>\n",
       "    </tr>\n",
       "    <tr>\n",
       "      <th>487323</th>\n",
       "      <td>1113674554</td>\n",
       "      <td>fashion wanita kaos tank top tanpa lengan crew...</td>\n",
       "      <td>28</td>\n",
       "      <td>fashion_image/f3df762314b1d9c1f6b6920941df5efe</td>\n",
       "    </tr>\n",
       "    <tr>\n",
       "      <th>181782</th>\n",
       "      <td>1501600937</td>\n",
       "      <td>makeup beili x06 black eye shadow tampered ble...</td>\n",
       "      <td>9</td>\n",
       "      <td>beauty_image/5eb502ec1f649f150210620912e2caca.jpg</td>\n",
       "    </tr>\n",
       "    <tr>\n",
       "      <th>458885</th>\n",
       "      <td>1107412982</td>\n",
       "      <td>vooo blus sifon wanita o neck lengan panjang m...</td>\n",
       "      <td>27</td>\n",
       "      <td>fashion_image/50fecf63b907059ffc19567739dc71d4</td>\n",
       "    </tr>\n",
       "    <tr>\n",
       "      <th>639693</th>\n",
       "      <td>132626436</td>\n",
       "      <td>ready iphone 7 plus</td>\n",
       "      <td>31</td>\n",
       "      <td>mobile_image/9763be92fe7a54769f2e61ea08533780.jpg</td>\n",
       "    </tr>\n",
       "  </tbody>\n",
       "</table>\n",
       "</div>"
      ],
      "text/plain": [
       "            itemid                        ...                                                                 image_path\n",
       "352221  1734435160                        ...                             fashion_image/12f77e7bdfacff949d48b8aa479b50ee\n",
       "487323  1113674554                        ...                             fashion_image/f3df762314b1d9c1f6b6920941df5efe\n",
       "181782  1501600937                        ...                          beauty_image/5eb502ec1f649f150210620912e2caca.jpg\n",
       "458885  1107412982                        ...                             fashion_image/50fecf63b907059ffc19567739dc71d4\n",
       "639693   132626436                        ...                          mobile_image/9763be92fe7a54769f2e61ea08533780.jpg\n",
       "\n",
       "[5 rows x 4 columns]"
      ]
     },
     "execution_count": 2,
     "metadata": {},
     "output_type": "execute_result"
    }
   ],
   "source": [
    "train_df = pd.read_csv(\"../input/ndsc-beginner/train.csv\")\n",
    "train_df = train_df.sample(frac=1.)\n",
    "val_df = train_df[:int(0.01*len(train_df))]\n",
    "train_df = train_df[int(0.01*len(train_df)):]\n",
    "val_df.head()"
   ]
  },
  {
   "cell_type": "code",
   "execution_count": 3,
   "metadata": {
    "_uuid": "92ffbf2ef35d2dc5863ee27c61eadd1869ca5440"
   },
   "outputs": [
    {
     "name": "stderr",
     "output_type": "stream",
     "text": [
      "2196018it [02:33, 14283.61it/s]"
     ]
    },
    {
     "name": "stdout",
     "output_type": "stream",
     "text": [
      "(300,)\n",
      "Found 2196017 word vectors.\n"
     ]
    },
    {
     "name": "stderr",
     "output_type": "stream",
     "text": [
      "\n"
     ]
    }
   ],
   "source": [
    "# Embdedding setup, save it in a dictionary for easier queries\n",
    "embeddings_index = {}\n",
    "f = open('../input/glove840b300dtxt/glove.840B.300d.txt')\n",
    "for line in tqdm(f):\n",
    "    values = line.split(\" \")\n",
    "    word = values[0]\n",
    "    coefs = np.asarray(values[1:], dtype='float32')\n",
    "    embeddings_index[word] = coefs\n",
    "f.close()\n",
    "print(coefs.shape)\n",
    "\n",
    "print('Found %s word vectors.' % len(embeddings_index))"
   ]
  },
  {
   "cell_type": "code",
   "execution_count": 4,
   "metadata": {
    "_uuid": "ba584dd919c0b36102ce10dd3de734e95c3be659"
   },
   "outputs": [
    {
     "data": {
      "text/plain": [
       "301"
      ]
     },
     "execution_count": 4,
     "metadata": {},
     "output_type": "execute_result"
    }
   ],
   "source": [
    "len(values)"
   ]
  },
  {
   "cell_type": "code",
   "execution_count": 5,
   "metadata": {
    "_uuid": "656aac528a152225f0150ed2be209003f07ebbc1"
   },
   "outputs": [],
   "source": [
    "# Convert values to embeddings\n",
    "def text_to_array(text):\n",
    "    empyt_emb = np.zeros(300)\n",
    "    text = text[:-1].split()[:300]\n",
    "    embeds = [embeddings_index.get(x, empyt_emb) for x in text]\n",
    "    embeds += [empyt_emb] * (300 - len(embeds))\n",
    "    return np.array(embeds)"
   ]
  },
  {
   "cell_type": "code",
   "execution_count": 6,
   "metadata": {
    "_uuid": "a8d5766736dd9c48de924f7fe9961d451d3de018",
    "scrolled": true
   },
   "outputs": [
    {
     "data": {
      "text/plain": [
       "(6666, 4)"
      ]
     },
     "execution_count": 6,
     "metadata": {},
     "output_type": "execute_result"
    }
   ],
   "source": [
    "val_df.shape"
   ]
  },
  {
   "cell_type": "code",
   "execution_count": 7,
   "metadata": {
    "_uuid": "9cc8b0bcd285225ce651d024f506615d4656b9f7"
   },
   "outputs": [],
   "source": [
    "val_vects = np.array([text_to_array(X_text) for X_text in (val_df[\"title\"][:])])\n",
    "val_y_labels = np.array(val_df[\"Category\"])\n",
    "#val_y = np.zeros((len(val_y_labels), 58))\n",
    "#val_y[np.arange(len(val_y_labels)), val_y_labels] = 1"
   ]
  },
  {
   "cell_type": "code",
   "execution_count": 8,
   "metadata": {
    "_uuid": "ccbb825cb9916b0cec11b4f313b9f584f9e160ac"
   },
   "outputs": [
    {
     "data": {
      "text/plain": [
       "(6666, 300, 300)"
      ]
     },
     "execution_count": 8,
     "metadata": {},
     "output_type": "execute_result"
    }
   ],
   "source": [
    "val_vects.shape"
   ]
  },
  {
   "cell_type": "code",
   "execution_count": 9,
   "metadata": {
    "_uuid": "dd1ca77b4e449cd1c0d02c0ea2f1fa616e479117"
   },
   "outputs": [
    {
     "name": "stdout",
     "output_type": "stream",
     "text": [
      "(128, 300, 300)\n",
      "(128, 58)\n"
     ]
    }
   ],
   "source": [
    "# Understand what a batch is made of\n",
    "batch_size = 128\n",
    "i = 0\n",
    "texts = train_df.iloc[i*batch_size:(i+1)*batch_size, 1]\n",
    "text_arr = np.array([text_to_array(text) for text in texts])\n",
    "batch_labels = np.array(train_df[\"Category\"][i*batch_size:(i+1)*batch_size])\n",
    "batch_targets = np.zeros((batch_size, 58))\n",
    "batch_targets[np.arange(batch_size), batch_labels] = 1\n",
    "\n",
    "print(text_arr.shape)\n",
    "print(batch_targets.shape)"
   ]
  },
  {
   "cell_type": "code",
   "execution_count": 10,
   "metadata": {
    "_uuid": "0c950448e0717eaebb920d93cfdc6b4561e21853"
   },
   "outputs": [],
   "source": [
    "# Write generator, which \n",
    "batch_size = 128\n",
    "\n",
    "def batch_gen(train_df):\n",
    "    n_batches = math.floor(len(train_df) / batch_size)\n",
    "    while True: \n",
    "        train_df = train_df.sample(frac=1.)  # Shuffle the data.\n",
    "        for i in range(n_batches):\n",
    "            texts = train_df.iloc[i*batch_size:(i+1)*batch_size, 1]\n",
    "            text_arr = np.array([text_to_array(text) for text in texts])\n",
    "            batch_labels = np.array(train_df[\"Category\"][i*batch_size:(i+1)*batch_size])\n",
    "            yield text_arr, batch_labels"
   ]
  },
  {
   "cell_type": "markdown",
   "metadata": {
    "_uuid": "706c0224b6112e5a8f00ad25f35e90fbb9519a5f"
   },
   "source": [
    "# Training"
   ]
  },
  {
   "cell_type": "code",
   "execution_count": 11,
   "metadata": {
    "_uuid": "798c303ec834fb530a60a1e590cfbd9a86f93fde"
   },
   "outputs": [
    {
     "name": "stderr",
     "output_type": "stream",
     "text": [
      "Using TensorFlow backend.\n"
     ]
    }
   ],
   "source": [
    "from keras.models import Sequential\n",
    "from keras.layers import CuDNNLSTM, Dense, Bidirectional, Activation, Dropout, ConvLSTM2D\n",
    "from keras.layers import Conv3D, Flatten, Conv2D, MaxPooling2D\n",
    "from keras import regularizers, optimizers\n",
    "from keras.layers.normalization import BatchNormalization"
   ]
  },
  {
   "cell_type": "code",
   "execution_count": 12,
   "metadata": {
    "_uuid": "40d6aabbd567dc23e08d503f41c650cc6054a8eb"
   },
   "outputs": [],
   "source": [
    "import matplotlib.pyplot as plt\n",
    "\n",
    "def plot_history(history):\n",
    "    plt.figure(figsize=(12,6))\n",
    "    plt.plot(history.history[\"loss\"], color=\"purple\")\n",
    "    plt.plot(history.history[\"acc\"], color=\"blue\")\n",
    "    plt.plot(history.history[\"val_loss\"], color=\"red\")\n",
    "    plt.plot(history.history[\"val_acc\"], color=\"green\")\n",
    "    plt.xlim(0,)\n",
    "    plt.ylim(0.5,1.5)\n",
    "    plt.legend(['loss', 'acc', \"val_loss\", \"val_acc\"], loc='upper right')\n",
    "    plt.show()"
   ]
  },
  {
   "cell_type": "code",
   "execution_count": 13,
   "metadata": {
    "_uuid": "9ad418c95b31ab5691d49b72c7c9622ef9ea42cf"
   },
   "outputs": [
    {
     "name": "stdout",
     "output_type": "stream",
     "text": [
      "WARNING:tensorflow:From /opt/conda/lib/python3.6/site-packages/tensorflow/python/framework/op_def_library.py:263: colocate_with (from tensorflow.python.framework.ops) is deprecated and will be removed in a future version.\n",
      "Instructions for updating:\n",
      "Colocations handled automatically by placer.\n",
      "WARNING:tensorflow:From /opt/conda/lib/python3.6/site-packages/keras/backend/tensorflow_backend.py:3445: calling dropout (from tensorflow.python.ops.nn_ops) with keep_prob is deprecated and will be removed in a future version.\n",
      "Instructions for updating:\n",
      "Please use `rate` instead of `keep_prob`. Rate should be set to `rate = 1 - keep_prob`.\n"
     ]
    }
   ],
   "source": [
    "model = Sequential()\n",
    "model.add(Bidirectional(CuDNNLSTM(128, return_sequences=True),\n",
    "                        input_shape=(300,300)))\n",
    "model.add(Dropout(0.05))\n",
    "model.add(Bidirectional(CuDNNLSTM(128)))\n",
    "model.add(Dense(58, kernel_initializer='normal'))\n",
    "model.add(Activation('softmax'))\n",
    "\n",
    "model.compile(loss='sparse_categorical_crossentropy',\n",
    "              optimizer='adam',\n",
    "              metrics=['accuracy'])"
   ]
  },
  {
   "cell_type": "code",
   "execution_count": 14,
   "metadata": {
    "_uuid": "3f0b703ded691293450beb4ddf2d903d0e08c737",
    "scrolled": false
   },
   "outputs": [
    {
     "name": "stdout",
     "output_type": "stream",
     "text": [
      "WARNING:tensorflow:From /opt/conda/lib/python3.6/site-packages/tensorflow/python/ops/math_ops.py:3066: to_int32 (from tensorflow.python.ops.math_ops) is deprecated and will be removed in a future version.\n",
      "Instructions for updating:\n",
      "Use tf.cast instead.\n",
      "Epoch 1/80\n",
      "1000/1000 [==============================] - 203s 203ms/step - loss: 1.3458 - acc: 0.6022 - val_loss: 1.1509 - val_acc: 0.6493\n",
      "Epoch 2/80\n",
      "1000/1000 [==============================] - 197s 197ms/step - loss: 1.0836 - acc: 0.6692 - val_loss: 1.0800 - val_acc: 0.6701\n",
      "Epoch 3/80\n",
      "1000/1000 [==============================] - 198s 198ms/step - loss: 1.0357 - acc: 0.6806 - val_loss: 1.0452 - val_acc: 0.6784\n",
      "Epoch 4/80\n",
      "1000/1000 [==============================] - 198s 198ms/step - loss: 1.0081 - acc: 0.6862 - val_loss: 1.0224 - val_acc: 0.6817\n",
      "Epoch 5/80\n",
      "1000/1000 [==============================] - 198s 198ms/step - loss: 0.9850 - acc: 0.6931 - val_loss: 1.0021 - val_acc: 0.6833\n",
      "Epoch 6/80\n",
      "1000/1000 [==============================] - 198s 198ms/step - loss: 0.9542 - acc: 0.6989 - val_loss: 0.9818 - val_acc: 0.6892\n",
      "Epoch 7/80\n",
      "1000/1000 [==============================] - 198s 198ms/step - loss: 0.9392 - acc: 0.7036 - val_loss: 0.9655 - val_acc: 0.6916\n",
      "Epoch 8/80\n",
      "1000/1000 [==============================] - 197s 197ms/step - loss: 0.9260 - acc: 0.7077 - val_loss: 0.9638 - val_acc: 0.6940\n",
      "Epoch 9/80\n",
      "1000/1000 [==============================] - 198s 198ms/step - loss: 0.9201 - acc: 0.7086 - val_loss: 0.9549 - val_acc: 0.6929\n",
      "Epoch 10/80\n",
      "1000/1000 [==============================] - 197s 197ms/step - loss: 0.9120 - acc: 0.7103 - val_loss: 0.9400 - val_acc: 0.6997\n",
      "Epoch 11/80\n",
      "1000/1000 [==============================] - 198s 198ms/step - loss: 0.8828 - acc: 0.7196 - val_loss: 0.9409 - val_acc: 0.6995\n",
      "Epoch 12/80\n",
      " 924/1000 [==========================>...] - ETA: 14s - loss: 0.8635 - acc: 0.7252"
     ]
    }
   ],
   "source": [
    "mg = batch_gen(train_df)\n",
    "history = model.fit_generator(mg, epochs=80,\n",
    "                    steps_per_epoch=1000,\n",
    "                    validation_data=(val_vects, val_y_labels),\n",
    "                    verbose=True)"
   ]
  },
  {
   "cell_type": "code",
   "execution_count": 15,
   "metadata": {
    "_uuid": "7a23dcc27240b41a0d4fbfd2ba24ca226636666b"
   },
   "outputs": [
    {
     "data": {
      "image/png": "[encoded data removed]",
      "text/plain": [
       "<Figure size 864x432 with 1 Axes>"
      ]
     },
     "metadata": {},
     "output_type": "display_data"
    }
   ],
   "source": [
    "plot_history(history)"
   ]
  },
  {
   "cell_type": "code",
   "execution_count": 16,
   "metadata": {
    "_uuid": "66392ed077ec7f21e3e0a616e3c3cc7f90e361eb"
   },
   "outputs": [
    {
     "name": "stdout",
     "output_type": "stream",
     "text": [
      "Epoch 1/1\n",
      "1000/1000 [==============================] - 198s 198ms/step - loss: 0.5791 - acc: 0.8061 - val_loss: 0.9922 - val_acc: 0.7166\n"
     ]
    }
   ],
   "source": [
    "history = model.fit_generator(mg, epochs=1,\n",
    "                    steps_per_epoch=1000,\n",
    "                    validation_data=(val_vects, val_y_labels),\n",
    "                    verbose=True)"
   ]
  },
  {
   "cell_type": "markdown",
   "metadata": {
    "_uuid": "d6cdda0e301be0b84e826e29f0f3a85c41aa6da9"
   },
   "source": [
    "# Inference"
   ]
  },
  {
   "cell_type": "code",
   "execution_count": 17,
   "metadata": {
    "_uuid": "b58cd95254f41e5002a17de0c3feab54a5fc3c67"
   },
   "outputs": [
    {
     "name": "stderr",
     "output_type": "stream",
     "text": [
      "674it [06:02,  2.23it/s]\n"
     ]
    }
   ],
   "source": [
    "# Make the prediction from the model\n",
    "batch_size = 256\n",
    "def batch_gen(test_df):\n",
    "    n_batches = math.ceil(len(test_df) / batch_size)\n",
    "    for i in range(n_batches):\n",
    "        texts = test_df.iloc[i*batch_size:(i+1)*batch_size, 1]\n",
    "        text_arr = np.array([text_to_array(text) for text in texts])\n",
    "        yield text_arr\n",
    "\n",
    "test_df = pd.read_csv(\"../input/ndsc-beginner/test.csv\")\n",
    "test_df[\"Supercategory\"] = test_df[\"image_path\"].str[0]\n",
    "supercats = np.array(test_df[\"Supercategory\"])\n",
    "supercat_dict = {\n",
    "    \"b\" : np.array([1]*17 + [0]*14 + [0]*27),\n",
    "    \"f\" : np.array([0]*17 + [1]*14 + [0]*27),\n",
    "    \"m\" : np.array([0]*17 + [0]*14 + [1]*27)\n",
    "}\n",
    "\n",
    "all_preds = []\n",
    "for x in tqdm(batch_gen(test_df)):\n",
    "    all_preds.extend(model.predict(x))"
   ]
  },
  {
   "cell_type": "code",
   "execution_count": 18,
   "metadata": {
    "_uuid": "2c678aac6bc5ede87f3a2decdb85dc31a0bf055f"
   },
   "outputs": [
    {
     "data": {
      "image/png": "[encoded data removed]",
      "text/plain": [
       "<Figure size 432x288 with 1 Axes>"
      ]
     },
     "metadata": {},
     "output_type": "display_data"
    }
   ],
   "source": [
    "import matplotlib.pyplot as plt\n",
    "plt.plot(all_preds[0])\n",
    "plt.plot(all_preds[int(len(all_preds)/2)])\n",
    "plt.plot(all_preds[-1])\n",
    "plt.yscale(\"log\")\n",
    "plt.show()"
   ]
  },
  {
   "cell_type": "code",
   "execution_count": 19,
   "metadata": {
    "_uuid": "5feb0840f2c392c4cc421310ed0fb23e7de7764e"
   },
   "outputs": [
    {
     "name": "stdout",
     "output_type": "stream",
     "text": [
      "(172402, 58)\n"
     ]
    }
   ],
   "source": [
    "print(np.shape(all_preds))\n",
    "y_te = [np.argmax(pred) for pred,supercat in zip(all_preds,supercats)]"
   ]
  },
  {
   "cell_type": "code",
   "execution_count": 20,
   "metadata": {
    "_uuid": "3e6ed54def110c881f401c6f8a844752baedcfbd"
   },
   "outputs": [],
   "source": [
    "submit_df = pd.DataFrame({\"itemid\": test_df[\"itemid\"], \"Category\": y_te})\n",
    "submit_df.to_csv(\"submission.csv\", index=False)"
   ]
  },
  {
   "cell_type": "code",
   "execution_count": 21,
   "metadata": {
    "_uuid": "363548b1cd5de65abae88a3f2bc091ff76f2fc70"
   },
   "outputs": [
    {
     "data": {
      "text/html": [
       "<div>\n",
       "<style scoped>\n",
       "    .dataframe tbody tr th:only-of-type {\n",
       "        vertical-align: middle;\n",
       "    }\n",
       "\n",
       "    .dataframe tbody tr th {\n",
       "        vertical-align: top;\n",
       "    }\n",
       "\n",
       "    .dataframe thead th {\n",
       "        text-align: right;\n",
       "    }\n",
       "</style>\n",
       "<table border=\"1\" class=\"dataframe\">\n",
       "  <thead>\n",
       "    <tr style=\"text-align: right;\">\n",
       "      <th></th>\n",
       "      <th>itemid</th>\n",
       "      <th>Category</th>\n",
       "    </tr>\n",
       "  </thead>\n",
       "  <tbody>\n",
       "    <tr>\n",
       "      <th>0</th>\n",
       "      <td>370855998</td>\n",
       "      <td>5</td>\n",
       "    </tr>\n",
       "    <tr>\n",
       "      <th>1</th>\n",
       "      <td>637234604</td>\n",
       "      <td>5</td>\n",
       "    </tr>\n",
       "    <tr>\n",
       "      <th>2</th>\n",
       "      <td>690282890</td>\n",
       "      <td>5</td>\n",
       "    </tr>\n",
       "    <tr>\n",
       "      <th>3</th>\n",
       "      <td>930913462</td>\n",
       "      <td>5</td>\n",
       "    </tr>\n",
       "    <tr>\n",
       "      <th>4</th>\n",
       "      <td>1039280071</td>\n",
       "      <td>5</td>\n",
       "    </tr>\n",
       "  </tbody>\n",
       "</table>\n",
       "</div>"
      ],
      "text/plain": [
       "       itemid  Category\n",
       "0   370855998         5\n",
       "1   637234604         5\n",
       "2   690282890         5\n",
       "3   930913462         5\n",
       "4  1039280071         5"
      ]
     },
     "execution_count": 21,
     "metadata": {},
     "output_type": "execute_result"
    }
   ],
   "source": [
    "submit_df.head()"
   ]
  },
  {
   "cell_type": "code",
   "execution_count": 22,
   "metadata": {
    "_uuid": "b6bef2cc99773ae5f27789d5c9f7275841fc0bdb"
   },
   "outputs": [
    {
     "data": {
      "text/html": [
       "<div>\n",
       "<style scoped>\n",
       "    .dataframe tbody tr th:only-of-type {\n",
       "        vertical-align: middle;\n",
       "    }\n",
       "\n",
       "    .dataframe tbody tr th {\n",
       "        vertical-align: top;\n",
       "    }\n",
       "\n",
       "    .dataframe thead th {\n",
       "        text-align: right;\n",
       "    }\n",
       "</style>\n",
       "<table border=\"1\" class=\"dataframe\">\n",
       "  <thead>\n",
       "    <tr style=\"text-align: right;\">\n",
       "      <th></th>\n",
       "      <th>itemid</th>\n",
       "      <th>Category</th>\n",
       "    </tr>\n",
       "  </thead>\n",
       "  <tbody>\n",
       "    <tr>\n",
       "      <th>172397</th>\n",
       "      <td>1781957365</td>\n",
       "      <td>38</td>\n",
       "    </tr>\n",
       "    <tr>\n",
       "      <th>172398</th>\n",
       "      <td>1839851276</td>\n",
       "      <td>31</td>\n",
       "    </tr>\n",
       "    <tr>\n",
       "      <th>172399</th>\n",
       "      <td>955369303</td>\n",
       "      <td>35</td>\n",
       "    </tr>\n",
       "    <tr>\n",
       "      <th>172400</th>\n",
       "      <td>1638035772</td>\n",
       "      <td>33</td>\n",
       "    </tr>\n",
       "    <tr>\n",
       "      <th>172401</th>\n",
       "      <td>1498091427</td>\n",
       "      <td>34</td>\n",
       "    </tr>\n",
       "  </tbody>\n",
       "</table>\n",
       "</div>"
      ],
      "text/plain": [
       "            itemid  Category\n",
       "172397  1781957365        38\n",
       "172398  1839851276        31\n",
       "172399   955369303        35\n",
       "172400  1638035772        33\n",
       "172401  1498091427        34"
      ]
     },
     "execution_count": 22,
     "metadata": {},
     "output_type": "execute_result"
    }
   ],
   "source": [
    "submit_df.tail()"
   ]
  },
  {
   "cell_type": "code",
   "execution_count": 23,
   "metadata": {
    "_uuid": "4673c1b67e67906305a63d6957bd3f4b78502918"
   },
   "outputs": [],
   "source": []
  }
 ],
 "metadata": {
  "kernelspec": {
   "display_name": "Python 3",
   "language": "python",
   "name": "python3"
  },
  "language_info": {
   "codemirror_mode": {
    "name": "ipython",
    "version": 3
   },
   "file_extension": ".py",
   "mimetype": "text/x-python",
   "name": "python",
   "nbconvert_exporter": "python",
   "pygments_lexer": "ipython3",
   "version": "3.6.6"
  }
 },
 "nbformat": 4,
 "nbformat_minor": 1
}
